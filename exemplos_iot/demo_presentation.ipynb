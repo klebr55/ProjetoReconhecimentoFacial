{
 "cells": [
  {
   "cell_type": "markdown",
   "id": "3779ffdc",
   "metadata": {},
   "source": [
    "# Demo: Integração IoT com Reconhecimento Facial\n",
    "\n",
    "Objetivos deste notebook:\n",
    "- Fornecer um material curto para apresentação em aula sobre como o reconhecimento facial pode acionar integrações IoT (MQTT, Serial, HTTP).\n",
    "- Mostrar comandos práticos para executar a demo e como visualizar os resultados gerados.\n",
    "- Indicar onde inserir screenshots para uso em slides."
   ]
  },
  {
   "cell_type": "code",
   "execution_count": null,
   "id": "cbb2bf1b",
   "metadata": {},
   "outputs": [],
   "source": [
    "# Comandos sugeridos (PowerShell) - copie para o terminal do sistema se preferir não executar do notebook:\n",
    "# pip install -r .\\ProjetoReconhecimentoFacial\\exemplos_iot\\requirements-examples.txt\n",
    "# python .\\ProjetoReconhecimentoFacial\\exemplos_iot\\demo_simulation.py --verbose --out-file .\\ProjetoReconhecimentoFacial\\exemplos_iot\\demo_output.json\n",
    "\n",
    "# Você também pode executar o demo a partir do próprio kernel (se o kernel do notebook usa o mesmo Python/venv):\n",
    "import subprocess, sys\n",
    "print('Executando demo_simulation.py (pode demorar ~3s)')\n",
    "subprocess.run([sys.executable, './ProjetoReconhecimentoFacial/exemplos_iot/demo_simulation.py', '--verbose', '--out-file', './ProjetoReconhecimentoFacial/exemplos_iot/demo_output.json'])\n",
    "print('Demo finalizado (verifique demo_output.json)')"
   ]
  },
  {
   "cell_type": "code",
   "execution_count": null,
   "id": "0dab0413",
   "metadata": {},
   "outputs": [],
   "source": [
    "# Carregar e mostrar o arquivo demo_output.json gerado pela demo (exibe como tabela)\n",
    "import json, pandas as pd, pathlib as P\n",
    "p = P.Path('./ProjetoReconhecimentoFacial/exemplos_iot/demo_output.json')\n",
    "if p.exists():\n",
    "    data = json.loads(p.read_text(encoding='utf-8'))\n",
    "    df = pd.json_normalize(data)\n",
    "    display(df)\n",
    "else:\n",
    "    print('Arquivo demo_output.json não encontrado. Rode a demo (ver célula anterior) e execute novamente.')"
   ]
  },
  {
   "cell_type": "markdown",
   "id": "9f5ce948",
   "metadata": {},
   "source": [
    "## Instruções para slides / screenshots\n",
    "- Para inserir screenshots: tire capturas da janela do terminal (outputs do demo) e salve no mesmo diretório do notebook (por exemplo `screenshots/demo1.png`).\n",
    "- Em uma célula markdown, adicione a imagem com a sintaxe: `![](screenshots/demo1.png)`\n",
    "- Sugestão de sequência para o slide: 1) Diagrama simples (fluxo reconhecimento -> broker/API -> ação), 2) Exemplo de payload JSON, 3) Demo ao vivo (executar `demo_simulation.py`)."
   ]
  }
 ],
 "metadata": {
  "language_info": {
   "name": "python"
  }
 },
 "nbformat": 4,
 "nbformat_minor": 5
}
